{
 "cells": [
  {
   "cell_type": "code",
   "execution_count": 1,
   "id": "cfe162fc",
   "metadata": {},
   "outputs": [
    {
     "name": "stdout",
     "output_type": "stream",
     "text": [
      "Database created and Successfully Connected to SQLite\n"
     ]
    }
   ],
   "source": [
    "import sqlite3\n",
    "\n",
    "#pulled from https://pynative.com/python-sqlite/\n",
    "try:\n",
    "    sqliteConnection = sqlite3.connect('sqlite_db_pythonsqlite.db')\n",
    "    cursor = sqliteConnection.cursor()\n",
    "    print(\"Database created and Successfully Connected to SQLite\")\n",
    "\n",
    "except sqlite3.Error as error:\n",
    "    print(\"Error while connecting to sqlite\", error)"
   ]
  },
  {
   "cell_type": "code",
   "execution_count": 2,
   "id": "f254d4b2",
   "metadata": {},
   "outputs": [
    {
     "name": "stdout",
     "output_type": "stream",
     "text": [
      "('Pool Table', 270)\n",
      "('Snooker Table', 240)\n",
      "('Table Tennis', 180)\n"
     ]
    }
   ],
   "source": [
    "#Q10: Produce a list of facilities with a total revenue less than 1000.\n",
    "#The output of facility name and total revenue, sorted by revenue. Remember\n",
    "#that there's a different cost for guests and members!\n",
    "\n",
    "query1 = \"\"\"\n",
    "    SELECT sub.name, SUM(sub.revenue) AS total_rev\n",
    "    FROM (\n",
    "        SELECT b.facid, f.name,\n",
    "            CASE WHEN b.memid = 0 THEN b.slots*f.guestcost\n",
    "            ELSE b.slots*f.membercost END AS revenue\n",
    "        FROM `Bookings` AS b\n",
    "        INNER JOIN `Facilities` AS f\n",
    "        ON b.facid = f.facid\n",
    "    ) AS sub\n",
    "    GROUP BY sub.name\n",
    "    HAVING total_rev < 1000\n",
    "    ORDER BY total_rev DESC;\n",
    "    \"\"\"\n",
    "cursor.execute(query1)\n",
    " \n",
    "rows = cursor.fetchall()\n",
    " \n",
    "for row in rows:\n",
    "    print(row)"
   ]
  },
  {
   "cell_type": "code",
   "execution_count": 3,
   "id": "5d75f48e",
   "metadata": {},
   "outputs": [
    {
     "name": "stdout",
     "output_type": "stream",
     "text": [
      "('Bader', 'Florence', 'Stibbons', 'Ponder')\n",
      "('Baker', 'Anne', 'Stibbons', 'Ponder')\n",
      "('Baker', 'Timothy', 'Farrell', 'Jemima')\n",
      "('Boothe', 'Tim', 'Rownam', 'Tim')\n",
      "('Butters', 'Gerald', 'Smith', 'Darren')\n",
      "('Coplin', 'Joan', 'Baker', 'Timothy')\n",
      "('Crumpet', 'Erica', 'Smith', 'Tracy')\n",
      "('Dare', 'Nancy', 'Joplette', 'Janice')\n",
      "('Farrell', 'David', None, None)\n",
      "('Farrell', 'Jemima', None, None)\n",
      "('Genting', 'Matthew', 'Butters', 'Gerald')\n",
      "('Hunt', 'John', 'Purview', 'Millicent')\n",
      "('Jones', 'David', 'Joplette', 'Janice')\n",
      "('Jones', 'Douglas', 'Jones', 'David')\n",
      "('Joplette', 'Janice', 'Smith', 'Darren')\n",
      "('Mackenzie', 'Anna', 'Smith', 'Darren')\n",
      "('Owen', 'Charles', 'Smith', 'Darren')\n",
      "('Pinker', 'David', 'Farrell', 'Jemima')\n",
      "('Purview', 'Millicent', 'Smith', 'Tracy')\n",
      "('Rownam', 'Tim', None, None)\n",
      "('Rumney', 'Henrietta', 'Genting', 'Matthew')\n",
      "('Sarwin', 'Ramnaresh', 'Bader', 'Florence')\n",
      "('Smith', 'Darren', None, None)\n",
      "('Smith', 'Jack', 'Smith', 'Darren')\n",
      "('Smith', 'Tracy', None, None)\n",
      "('Stibbons', 'Ponder', 'Tracy', 'Burton')\n",
      "('Tracy', 'Burton', None, None)\n",
      "('Tupperware', 'Hyacinth', None, None)\n",
      "('Worthington-Smyth', 'Henry', 'Smith', 'Tracy')\n"
     ]
    }
   ],
   "source": [
    "#Q11: Produce a report of members and who recommended them in alphabetic surname,firstname order\n",
    "\n",
    "query2 = \"\"\"\n",
    "    SELECT *\n",
    "    FROM(\n",
    "        SELECT DISTINCT m.surname AS MemLName,\n",
    "            m.firstname AS MemFName,\n",
    "            r.surname AS RecoLName,\n",
    "            r.firstname AS RecoFName\n",
    "            FROM `Members` AS m\n",
    "            LEFT JOIN `Members` AS r\n",
    "            ON m.recommendedby = r.memid\n",
    "        ) AS sub\n",
    "    WHERE sub.MemLName NOT LIKE 'GUEST'\n",
    "    ORDER BY sub.MemLName, sub.MemFName;\n",
    "    \"\"\"\n",
    "cursor.execute(query2)\n",
    " \n",
    "rows = cursor.fetchall()\n",
    " \n",
    "for row in rows:\n",
    "    print(row)"
   ]
  },
  {
   "cell_type": "code",
   "execution_count": 4,
   "id": "d5a0f596",
   "metadata": {},
   "outputs": [
    {
     "name": "stdout",
     "output_type": "stream",
     "text": [
      "('Badminton Court', 1086)\n",
      "('Tennis Court 1', 957)\n",
      "('Massage Room 1', 884)\n",
      "('Tennis Court 2', 882)\n",
      "('Snooker Table', 860)\n",
      "('Pool Table', 856)\n",
      "('Table Tennis', 794)\n",
      "('Squash Court', 418)\n",
      "('Massage Room 2', 54)\n"
     ]
    }
   ],
   "source": [
    "#Q12: Find the facilities with their usage by member, but not guests\n",
    "\n",
    "query3 = \"\"\"\n",
    "    SELECT f.name, SUM(b.slots) AS slotsbooked\n",
    "    FROM `Bookings` AS b\n",
    "    LEFT JOIN `Facilities` As f\n",
    "    ON b.facid = f.facid\n",
    "    WHERE b.memid != 0\n",
    "    GROUP BY f.name\n",
    "    ORDER BY slotsbooked DESC;\n",
    "    \"\"\"\n",
    "cursor.execute(query3)\n",
    " \n",
    "rows = cursor.fetchall()\n",
    " \n",
    "for row in rows:\n",
    "    print(row)"
   ]
  },
  {
   "cell_type": "code",
   "execution_count": 5,
   "id": "f3209e5f",
   "metadata": {},
   "outputs": [
    {
     "name": "stdout",
     "output_type": "stream",
     "text": [
      "('Badminton Court', '07', 165)\n",
      "('Badminton Court', '08', 414)\n",
      "('Badminton Court', '09', 507)\n",
      "('Massage Room 1', '07', 166)\n",
      "('Massage Room 1', '08', 316)\n",
      "('Massage Room 1', '09', 402)\n",
      "('Massage Room 2', '07', 8)\n",
      "('Massage Room 2', '08', 18)\n",
      "('Massage Room 2', '09', 28)\n",
      "('Pool Table', '07', 110)\n",
      "('Pool Table', '08', 303)\n",
      "('Pool Table', '09', 443)\n",
      "('Snooker Table', '07', 140)\n",
      "('Snooker Table', '08', 316)\n",
      "('Snooker Table', '09', 404)\n",
      "('Squash Court', '07', 50)\n",
      "('Squash Court', '08', 184)\n",
      "('Squash Court', '09', 184)\n",
      "('Table Tennis', '07', 98)\n",
      "('Table Tennis', '08', 296)\n",
      "('Table Tennis', '09', 400)\n",
      "('Tennis Court 1', '07', 201)\n",
      "('Tennis Court 1', '08', 339)\n",
      "('Tennis Court 1', '09', 417)\n",
      "('Tennis Court 2', '07', 123)\n",
      "('Tennis Court 2', '08', 345)\n",
      "('Tennis Court 2', '09', 414)\n"
     ]
    }
   ],
   "source": [
    "#Q13: Find the facilities usage by month, but not guests\n",
    "\n",
    "query4 = \"\"\"\n",
    "    SELECT f.name, strftime('%m', starttime), SUM(b.slots) AS slotsbooked\n",
    "    FROM `Bookings` AS b\n",
    "    LEFT JOIN `Facilities` As f\n",
    "    ON b.facid = f.facid\n",
    "    WHERE b.memid != 0\n",
    "    GROUP BY f.name, strftime('%m', starttime)\n",
    "    ORDER BY f.name;\n",
    "    \"\"\"\n",
    "cursor.execute(query4)\n",
    " \n",
    "rows = cursor.fetchall()\n",
    " \n",
    "for row in rows:\n",
    "    print(row)"
   ]
  },
  {
   "cell_type": "code",
   "execution_count": 6,
   "id": "81748caf",
   "metadata": {},
   "outputs": [
    {
     "name": "stdout",
     "output_type": "stream",
     "text": [
      "The SQLite connection is closed\n"
     ]
    }
   ],
   "source": [
    "if sqliteConnection:\n",
    "    sqliteConnection.close()\n",
    "    print(\"The SQLite connection is closed\")"
   ]
  }
 ],
 "metadata": {
  "kernelspec": {
   "display_name": "Python 3",
   "language": "python",
   "name": "python3"
  },
  "language_info": {
   "codemirror_mode": {
    "name": "ipython",
    "version": 3
   },
   "file_extension": ".py",
   "mimetype": "text/x-python",
   "name": "python",
   "nbconvert_exporter": "python",
   "pygments_lexer": "ipython3",
   "version": "3.8.8"
  }
 },
 "nbformat": 4,
 "nbformat_minor": 5
}
